{
  "metadata": {
    "language_info": {
      "codemirror_mode": {
        "name": "python",
        "version": 3
      },
      "file_extension": ".py",
      "mimetype": "text/x-python",
      "name": "python",
      "nbconvert_exporter": "python",
      "pygments_lexer": "ipython3",
      "version": "3.8"
    },
    "kernelspec": {
      "name": "python",
      "display_name": "Python (Pyodide)",
      "language": "python"
    }
  },
  "nbformat_minor": 4,
  "nbformat": 4,
  "cells": [
    {
      "cell_type": "code",
      "source": "#slicing of list:\n# student = [\"Veena\",\"Reena\",\"Teena\",\"Seema\",\"Neema\",\"Jeena\"]\n# print(student[0:1])",
      "metadata": {
        "trusted": true
      },
      "execution_count": 5,
      "outputs": [
        {
          "name": "stdout",
          "text": "['Veena']\n",
          "output_type": "stream"
        }
      ]
    },
    {
      "cell_type": "code",
      "source": "# student = [\"Veena\",\"Reena\",\"Teena\",\"Seema\",\"Neema\",\"Jeena\"]\n# print(student[0:2])",
      "metadata": {
        "trusted": true
      },
      "execution_count": 7,
      "outputs": [
        {
          "name": "stdout",
          "text": "['Veena', 'Reena']\n",
          "output_type": "stream"
        }
      ]
    },
    {
      "cell_type": "code",
      "source": "# student = [\"Veena\",\"Reena\",\"Teena\",\"Seema\",\"Neema\",\"Jeena\"]\n# print(student[3:6])",
      "metadata": {
        "trusted": true
      },
      "execution_count": 8,
      "outputs": [
        {
          "name": "stdout",
          "text": "['Seema', 'Neema', 'Jeena']\n",
          "output_type": "stream"
        }
      ]
    },
    {
      "cell_type": "code",
      "source": "student = [\"Veena\",\"Reena\",\"Teena\",\"Seema\",\"Neema\",\"Jeena\"]\nprint(student[::-1])",
      "metadata": {
        "trusted": true
      },
      "execution_count": 9,
      "outputs": [
        {
          "name": "stdout",
          "text": "['Jeena', 'Neema', 'Seema', 'Teena', 'Reena', 'Veena']\n",
          "output_type": "stream"
        }
      ]
    },
    {
      "cell_type": "code",
      "source": "# oraganising the list:\n# fruits = [\"mango\",\"banana\",\"orange\",\"apple\",\"grapes\"]\n# print(sorted(fruits))\n",
      "metadata": {
        "trusted": true
      },
      "execution_count": 11,
      "outputs": [
        {
          "name": "stdout",
          "text": "['apple', 'banana', 'grapes', 'mango', 'orange']\n",
          "output_type": "stream"
        }
      ]
    },
    {
      "cell_type": "code",
      "source": "# fruits = [\"mango\",\"banana\",\"orange\",\"apple\",\"grapes\"]\n# fruits.sort()\n# print(fruits)",
      "metadata": {
        "trusted": true
      },
      "execution_count": 12,
      "outputs": [
        {
          "name": "stdout",
          "text": "['apple', 'banana', 'grapes', 'mango', 'orange']\n",
          "output_type": "stream"
        }
      ]
    },
    {
      "cell_type": "code",
      "source": "# fruits = [\"mango\",\"banana\",\"orange\",\"apple\",\"grapes\"]\n# fruits.reverse()\n# print(fruits)\n",
      "metadata": {
        "trusted": true
      },
      "execution_count": 13,
      "outputs": [
        {
          "name": "stdout",
          "text": "['grapes', 'apple', 'orange', 'banana', 'mango']\n",
          "output_type": "stream"
        }
      ]
    },
    {
      "cell_type": "code",
      "source": "# list1=[\"a\",\"b\",\"c\",\"d\",\"e\",\"f\",\"g\"]\n# print(len(list1))",
      "metadata": {
        "trusted": true
      },
      "execution_count": 14,
      "outputs": [
        {
          "name": "stdout",
          "text": "7\n",
          "output_type": "stream"
        }
      ]
    },
    {
      "cell_type": "code",
      "source": "# for loop:\n# students=[\"Rupa\",\"Silpa\",\"Kevin\",\"Praveen\",\"Naveen\"]\n# for i in students[2:5]:\n#           print(\"first class winners are\",i)",
      "metadata": {
        "trusted": true
      },
      "execution_count": 17,
      "outputs": [
        {
          "name": "stdout",
          "text": "first class winners are Kevin\nfirst class winners are Praveen\nfirst class winners are Naveen\n",
          "output_type": "stream"
        }
      ]
    },
    {
      "cell_type": "code",
      "source": "students=[\"Rupa\",\"Silpa\",\"Kevin\",\"Praveen\",\"Naveen\"]\nfor i in students:\n           print(\"Best of luck students\",i,end=\"\\n\")",
      "metadata": {
        "trusted": true
      },
      "execution_count": 26,
      "outputs": [
        {
          "name": "stdout",
          "text": "Best of luck students Rupa\nBest of luck students Silpa\nBest of luck students Kevin\nBest of luck students Praveen\nBest of luck students Naveen\n",
          "output_type": "stream"
        }
      ]
    },
    {
      "cell_type": "code",
      "source": "",
      "metadata": {
        "trusted": true
      },
      "execution_count": null,
      "outputs": []
    }
  ]
}